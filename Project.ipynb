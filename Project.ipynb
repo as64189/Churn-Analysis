{
 "cells": [
  {
   "cell_type": "code",
   "execution_count": 33,
   "metadata": {},
   "outputs": [],
   "source": [
    "import pandas as pd\n",
    "import numpy as np"
   ]
  },
  {
   "cell_type": "code",
   "execution_count": 34,
   "metadata": {},
   "outputs": [],
   "source": [
    "#reading data\n",
    "data = pd.read_csv(r\"C:\\Users\\GU44DR\\Telco_customer_churn.csv\", sep=',')"
   ]
  },
  {
   "cell_type": "code",
   "execution_count": 35,
   "metadata": {},
   "outputs": [
    {
     "data": {
      "text/html": [
       "<div>\n",
       "<style scoped>\n",
       "    .dataframe tbody tr th:only-of-type {\n",
       "        vertical-align: middle;\n",
       "    }\n",
       "\n",
       "    .dataframe tbody tr th {\n",
       "        vertical-align: top;\n",
       "    }\n",
       "\n",
       "    .dataframe thead th {\n",
       "        text-align: right;\n",
       "    }\n",
       "</style>\n",
       "<table border=\"1\" class=\"dataframe\">\n",
       "  <thead>\n",
       "    <tr style=\"text-align: right;\">\n",
       "      <th></th>\n",
       "      <th>CustomerID</th>\n",
       "      <th>Count</th>\n",
       "      <th>Country</th>\n",
       "      <th>State</th>\n",
       "      <th>City</th>\n",
       "      <th>Zip Code</th>\n",
       "      <th>Lat Long</th>\n",
       "      <th>Latitude</th>\n",
       "      <th>Longitude</th>\n",
       "      <th>Gender</th>\n",
       "      <th>...</th>\n",
       "      <th>Contract</th>\n",
       "      <th>Paperless Billing</th>\n",
       "      <th>Payment Method</th>\n",
       "      <th>Monthly Charges</th>\n",
       "      <th>Total Charges</th>\n",
       "      <th>Churn Label</th>\n",
       "      <th>Churn Value</th>\n",
       "      <th>Churn Score</th>\n",
       "      <th>CLTV</th>\n",
       "      <th>Churn Reason</th>\n",
       "    </tr>\n",
       "  </thead>\n",
       "  <tbody>\n",
       "    <tr>\n",
       "      <td>0</td>\n",
       "      <td>3668-QPYBK</td>\n",
       "      <td>1</td>\n",
       "      <td>United States</td>\n",
       "      <td>California</td>\n",
       "      <td>Los Angeles</td>\n",
       "      <td>90003</td>\n",
       "      <td>33.964131, -118.272783</td>\n",
       "      <td>33.964131</td>\n",
       "      <td>-118.272783</td>\n",
       "      <td>Male</td>\n",
       "      <td>...</td>\n",
       "      <td>Month-to-month</td>\n",
       "      <td>Yes</td>\n",
       "      <td>Mailed check</td>\n",
       "      <td>53.85</td>\n",
       "      <td>108.15</td>\n",
       "      <td>Yes</td>\n",
       "      <td>1</td>\n",
       "      <td>86</td>\n",
       "      <td>3239</td>\n",
       "      <td>Competitor made better offer</td>\n",
       "    </tr>\n",
       "    <tr>\n",
       "      <td>1</td>\n",
       "      <td>9237-HQITU</td>\n",
       "      <td>1</td>\n",
       "      <td>United States</td>\n",
       "      <td>California</td>\n",
       "      <td>Los Angeles</td>\n",
       "      <td>90005</td>\n",
       "      <td>34.059281, -118.30742</td>\n",
       "      <td>34.059281</td>\n",
       "      <td>-118.307420</td>\n",
       "      <td>Female</td>\n",
       "      <td>...</td>\n",
       "      <td>Month-to-month</td>\n",
       "      <td>Yes</td>\n",
       "      <td>Electronic check</td>\n",
       "      <td>70.70</td>\n",
       "      <td>151.65</td>\n",
       "      <td>Yes</td>\n",
       "      <td>1</td>\n",
       "      <td>67</td>\n",
       "      <td>2701</td>\n",
       "      <td>Moved</td>\n",
       "    </tr>\n",
       "    <tr>\n",
       "      <td>2</td>\n",
       "      <td>9305-CDSKC</td>\n",
       "      <td>1</td>\n",
       "      <td>United States</td>\n",
       "      <td>California</td>\n",
       "      <td>Los Angeles</td>\n",
       "      <td>90006</td>\n",
       "      <td>34.048013, -118.293953</td>\n",
       "      <td>34.048013</td>\n",
       "      <td>-118.293953</td>\n",
       "      <td>Female</td>\n",
       "      <td>...</td>\n",
       "      <td>Month-to-month</td>\n",
       "      <td>Yes</td>\n",
       "      <td>Electronic check</td>\n",
       "      <td>99.65</td>\n",
       "      <td>820.50</td>\n",
       "      <td>Yes</td>\n",
       "      <td>1</td>\n",
       "      <td>86</td>\n",
       "      <td>5372</td>\n",
       "      <td>Moved</td>\n",
       "    </tr>\n",
       "    <tr>\n",
       "      <td>3</td>\n",
       "      <td>7892-POOKP</td>\n",
       "      <td>1</td>\n",
       "      <td>United States</td>\n",
       "      <td>California</td>\n",
       "      <td>Los Angeles</td>\n",
       "      <td>90010</td>\n",
       "      <td>34.062125, -118.315709</td>\n",
       "      <td>34.062125</td>\n",
       "      <td>-118.315709</td>\n",
       "      <td>Female</td>\n",
       "      <td>...</td>\n",
       "      <td>Month-to-month</td>\n",
       "      <td>Yes</td>\n",
       "      <td>Electronic check</td>\n",
       "      <td>104.80</td>\n",
       "      <td>3046.05</td>\n",
       "      <td>Yes</td>\n",
       "      <td>1</td>\n",
       "      <td>84</td>\n",
       "      <td>5003</td>\n",
       "      <td>Moved</td>\n",
       "    </tr>\n",
       "    <tr>\n",
       "      <td>4</td>\n",
       "      <td>0280-XJGEX</td>\n",
       "      <td>1</td>\n",
       "      <td>United States</td>\n",
       "      <td>California</td>\n",
       "      <td>Los Angeles</td>\n",
       "      <td>90015</td>\n",
       "      <td>34.039224, -118.266293</td>\n",
       "      <td>34.039224</td>\n",
       "      <td>-118.266293</td>\n",
       "      <td>Male</td>\n",
       "      <td>...</td>\n",
       "      <td>Month-to-month</td>\n",
       "      <td>Yes</td>\n",
       "      <td>Bank transfer (automatic)</td>\n",
       "      <td>103.70</td>\n",
       "      <td>5036.30</td>\n",
       "      <td>Yes</td>\n",
       "      <td>1</td>\n",
       "      <td>89</td>\n",
       "      <td>5340</td>\n",
       "      <td>Competitor had better devices</td>\n",
       "    </tr>\n",
       "  </tbody>\n",
       "</table>\n",
       "<p>5 rows × 33 columns</p>\n",
       "</div>"
      ],
      "text/plain": [
       "   CustomerID  Count        Country       State         City  Zip Code  \\\n",
       "0  3668-QPYBK      1  United States  California  Los Angeles     90003   \n",
       "1  9237-HQITU      1  United States  California  Los Angeles     90005   \n",
       "2  9305-CDSKC      1  United States  California  Los Angeles     90006   \n",
       "3  7892-POOKP      1  United States  California  Los Angeles     90010   \n",
       "4  0280-XJGEX      1  United States  California  Los Angeles     90015   \n",
       "\n",
       "                 Lat Long   Latitude   Longitude  Gender  ...        Contract  \\\n",
       "0  33.964131, -118.272783  33.964131 -118.272783    Male  ...  Month-to-month   \n",
       "1   34.059281, -118.30742  34.059281 -118.307420  Female  ...  Month-to-month   \n",
       "2  34.048013, -118.293953  34.048013 -118.293953  Female  ...  Month-to-month   \n",
       "3  34.062125, -118.315709  34.062125 -118.315709  Female  ...  Month-to-month   \n",
       "4  34.039224, -118.266293  34.039224 -118.266293    Male  ...  Month-to-month   \n",
       "\n",
       "  Paperless Billing             Payment Method  Monthly Charges Total Charges  \\\n",
       "0               Yes               Mailed check            53.85        108.15   \n",
       "1               Yes           Electronic check            70.70        151.65   \n",
       "2               Yes           Electronic check            99.65        820.50   \n",
       "3               Yes           Electronic check           104.80       3046.05   \n",
       "4               Yes  Bank transfer (automatic)           103.70       5036.30   \n",
       "\n",
       "  Churn Label Churn Value Churn Score  CLTV                   Churn Reason  \n",
       "0         Yes           1          86  3239   Competitor made better offer  \n",
       "1         Yes           1          67  2701                          Moved  \n",
       "2         Yes           1          86  5372                          Moved  \n",
       "3         Yes           1          84  5003                          Moved  \n",
       "4         Yes           1          89  5340  Competitor had better devices  \n",
       "\n",
       "[5 rows x 33 columns]"
      ]
     },
     "execution_count": 35,
     "metadata": {},
     "output_type": "execute_result"
    }
   ],
   "source": [
    "data.head()"
   ]
  },
  {
   "cell_type": "code",
   "execution_count": 36,
   "metadata": {},
   "outputs": [
    {
     "data": {
      "text/plain": [
       "Index(['CustomerID', 'Count', 'Country', 'State', 'City', 'Zip Code',\n",
       "       'Lat Long', 'Latitude', 'Longitude', 'Gender', 'Senior Citizen',\n",
       "       'Partner', 'Dependents', 'Tenure Months', 'Phone Service',\n",
       "       'Multiple Lines', 'Internet Service', 'Online Security',\n",
       "       'Online Backup', 'Device Protection', 'Tech Support', 'Streaming TV',\n",
       "       'Streaming Movies', 'Contract', 'Paperless Billing', 'Payment Method',\n",
       "       'Monthly Charges', 'Total Charges', 'Churn Label', 'Churn Value',\n",
       "       'Churn Score', 'CLTV', 'Churn Reason'],\n",
       "      dtype='object')"
      ]
     },
     "execution_count": 36,
     "metadata": {},
     "output_type": "execute_result"
    }
   ],
   "source": [
    "data.columns"
   ]
  },
  {
   "cell_type": "code",
   "execution_count": 37,
   "metadata": {},
   "outputs": [],
   "source": [
    "# Deleting not needed columns\n",
    "DeleteList=['CustomerID', 'Count', 'Country', 'State', 'City', 'Zip Code', 'Gender','Lat Long', 'Latitude', 'Longitude', 'Churn Label', 'Churn Score', 'CLTV', 'Churn Reason','Total Charges']\n",
    "data=data.drop(DeleteList, axis=1)"
   ]
  },
  {
   "cell_type": "code",
   "execution_count": 38,
   "metadata": {},
   "outputs": [],
   "source": [
    "# split predictors based on dtype\n",
    "X_num = data.select_dtypes(exclude='object')\n",
    "X_cat= data.select_dtypes(include='object')"
   ]
  },
  {
   "cell_type": "code",
   "execution_count": 39,
   "metadata": {},
   "outputs": [],
   "source": [
    "from sklearn.preprocessing import LabelEncoder\n",
    "le = LabelEncoder()\n",
    "data.Partner = le.fit_transform(data.Partner)\n",
    "data.Dependents = le.fit_transform(data.Dependents)\n",
    "data['Senior Citizen'] = le.fit_transform(data['Senior Citizen'])\n",
    "data['Phone Service'] = le.fit_transform(data['Phone Service'])\n",
    "data['Phone Service'] = le.fit_transform(data['Phone Service'])\n",
    "data['Multiple Lines'] = le.fit_transform(data['Multiple Lines'])\n",
    "data['Online Security'] = le.fit_transform(data['Online Security'])\n",
    "data['Online Backup'] = le.fit_transform(data['Online Backup'])\n",
    "data['Device Protection'] = le.fit_transform(data['Device Protection'])\n",
    "data['Tech Support'] = le.fit_transform(data['Tech Support'])\n",
    "data['Streaming TV'] = le.fit_transform(data['Streaming TV'])\n",
    "data['Streaming Movies'] = le.fit_transform(data['Streaming Movies'])\n",
    "data['Paperless Billing'] = le.fit_transform(data['Paperless Billing'])"
   ]
  },
  {
   "cell_type": "code",
   "execution_count": 40,
   "metadata": {},
   "outputs": [
    {
     "data": {
      "text/plain": [
       "array(['DSL', 'Fiber optic', 'No'], dtype=object)"
      ]
     },
     "execution_count": 40,
     "metadata": {},
     "output_type": "execute_result"
    }
   ],
   "source": [
    "data['Internet Service'].unique()"
   ]
  },
  {
   "cell_type": "code",
   "execution_count": 41,
   "metadata": {},
   "outputs": [
    {
     "data": {
      "text/html": [
       "<div>\n",
       "<style scoped>\n",
       "    .dataframe tbody tr th:only-of-type {\n",
       "        vertical-align: middle;\n",
       "    }\n",
       "\n",
       "    .dataframe tbody tr th {\n",
       "        vertical-align: top;\n",
       "    }\n",
       "\n",
       "    .dataframe thead th {\n",
       "        text-align: right;\n",
       "    }\n",
       "</style>\n",
       "<table border=\"1\" class=\"dataframe\">\n",
       "  <thead>\n",
       "    <tr style=\"text-align: right;\">\n",
       "      <th>col_0</th>\n",
       "      <th>count</th>\n",
       "    </tr>\n",
       "    <tr>\n",
       "      <th>Internet Service</th>\n",
       "      <th></th>\n",
       "    </tr>\n",
       "  </thead>\n",
       "  <tbody>\n",
       "    <tr>\n",
       "      <td>DSL</td>\n",
       "      <td>2421</td>\n",
       "    </tr>\n",
       "    <tr>\n",
       "      <td>Fiber optic</td>\n",
       "      <td>3096</td>\n",
       "    </tr>\n",
       "    <tr>\n",
       "      <td>No</td>\n",
       "      <td>1526</td>\n",
       "    </tr>\n",
       "  </tbody>\n",
       "</table>\n",
       "</div>"
      ],
      "text/plain": [
       "col_0             count\n",
       "Internet Service       \n",
       "DSL                2421\n",
       "Fiber optic        3096\n",
       "No                 1526"
      ]
     },
     "execution_count": 41,
     "metadata": {},
     "output_type": "execute_result"
    }
   ],
   "source": [
    "#calculating frequencies of the variables - gender variable\n",
    "freq_gndr=pd.crosstab(index=data['Internet Service'], columns='count')\n",
    "freq_gndr"
   ]
  },
  {
   "cell_type": "code",
   "execution_count": 42,
   "metadata": {},
   "outputs": [],
   "source": [
    "data['Internet Service'] = np.where(np.isin(data['Internet Service'],['DSL','Fiber optic']),1,0)"
   ]
  },
  {
   "cell_type": "code",
   "execution_count": 43,
   "metadata": {},
   "outputs": [
    {
     "data": {
      "text/plain": [
       "array(['Mailed check', 'Electronic check', 'Bank transfer (automatic)',\n",
       "       'Credit card (automatic)'], dtype=object)"
      ]
     },
     "execution_count": 43,
     "metadata": {},
     "output_type": "execute_result"
    }
   ],
   "source": [
    "data['Payment Method'].unique()"
   ]
  },
  {
   "cell_type": "code",
   "execution_count": 44,
   "metadata": {},
   "outputs": [
    {
     "data": {
      "text/html": [
       "<div>\n",
       "<style scoped>\n",
       "    .dataframe tbody tr th:only-of-type {\n",
       "        vertical-align: middle;\n",
       "    }\n",
       "\n",
       "    .dataframe tbody tr th {\n",
       "        vertical-align: top;\n",
       "    }\n",
       "\n",
       "    .dataframe thead th {\n",
       "        text-align: right;\n",
       "    }\n",
       "</style>\n",
       "<table border=\"1\" class=\"dataframe\">\n",
       "  <thead>\n",
       "    <tr style=\"text-align: right;\">\n",
       "      <th>col_0</th>\n",
       "      <th>count</th>\n",
       "    </tr>\n",
       "    <tr>\n",
       "      <th>Payment Method</th>\n",
       "      <th></th>\n",
       "    </tr>\n",
       "  </thead>\n",
       "  <tbody>\n",
       "    <tr>\n",
       "      <td>Bank transfer (automatic)</td>\n",
       "      <td>1544</td>\n",
       "    </tr>\n",
       "    <tr>\n",
       "      <td>Credit card (automatic)</td>\n",
       "      <td>1522</td>\n",
       "    </tr>\n",
       "    <tr>\n",
       "      <td>Electronic check</td>\n",
       "      <td>2365</td>\n",
       "    </tr>\n",
       "    <tr>\n",
       "      <td>Mailed check</td>\n",
       "      <td>1612</td>\n",
       "    </tr>\n",
       "  </tbody>\n",
       "</table>\n",
       "</div>"
      ],
      "text/plain": [
       "col_0                      count\n",
       "Payment Method                  \n",
       "Bank transfer (automatic)   1544\n",
       "Credit card (automatic)     1522\n",
       "Electronic check            2365\n",
       "Mailed check                1612"
      ]
     },
     "execution_count": 44,
     "metadata": {},
     "output_type": "execute_result"
    }
   ],
   "source": [
    "#calculating frequencies of the variables - gender variable\n",
    "freq_gndr=pd.crosstab(index=data['Payment Method'], columns='count')\n",
    "freq_gndr"
   ]
  },
  {
   "cell_type": "code",
   "execution_count": 45,
   "metadata": {},
   "outputs": [],
   "source": [
    "# one hot encoding of categorical variables\n",
    "dummies1= pd.get_dummies(data['Payment Method'],drop_first=False)"
   ]
  },
  {
   "cell_type": "code",
   "execution_count": 46,
   "metadata": {},
   "outputs": [],
   "source": [
    "# Combine standardized and one hot encoded\n",
    "data=data.join(dummies1)"
   ]
  },
  {
   "cell_type": "code",
   "execution_count": 47,
   "metadata": {},
   "outputs": [],
   "source": [
    "data=data.drop(['Payment Method'],axis=1)"
   ]
  },
  {
   "cell_type": "code",
   "execution_count": 48,
   "metadata": {},
   "outputs": [
    {
     "data": {
      "text/html": [
       "<div>\n",
       "<style scoped>\n",
       "    .dataframe tbody tr th:only-of-type {\n",
       "        vertical-align: middle;\n",
       "    }\n",
       "\n",
       "    .dataframe tbody tr th {\n",
       "        vertical-align: top;\n",
       "    }\n",
       "\n",
       "    .dataframe thead th {\n",
       "        text-align: right;\n",
       "    }\n",
       "</style>\n",
       "<table border=\"1\" class=\"dataframe\">\n",
       "  <thead>\n",
       "    <tr style=\"text-align: right;\">\n",
       "      <th>col_0</th>\n",
       "      <th>count</th>\n",
       "    </tr>\n",
       "    <tr>\n",
       "      <th>Contract</th>\n",
       "      <th></th>\n",
       "    </tr>\n",
       "  </thead>\n",
       "  <tbody>\n",
       "    <tr>\n",
       "      <td>Month-to-month</td>\n",
       "      <td>3875</td>\n",
       "    </tr>\n",
       "    <tr>\n",
       "      <td>One year</td>\n",
       "      <td>1473</td>\n",
       "    </tr>\n",
       "    <tr>\n",
       "      <td>Two year</td>\n",
       "      <td>1695</td>\n",
       "    </tr>\n",
       "  </tbody>\n",
       "</table>\n",
       "</div>"
      ],
      "text/plain": [
       "col_0           count\n",
       "Contract             \n",
       "Month-to-month   3875\n",
       "One year         1473\n",
       "Two year         1695"
      ]
     },
     "execution_count": 48,
     "metadata": {},
     "output_type": "execute_result"
    }
   ],
   "source": [
    "#calculating frequencies of the variables - gender variable\n",
    "freq_gndr=pd.crosstab(index=data['Contract'], columns='count')\n",
    "freq_gndr"
   ]
  },
  {
   "cell_type": "code",
   "execution_count": 49,
   "metadata": {},
   "outputs": [],
   "source": [
    "data['Contract'] = np.where(np.isin(data['Contract'],['One year','Two year']),1,0)"
   ]
  },
  {
   "cell_type": "code",
   "execution_count": 50,
   "metadata": {},
   "outputs": [
    {
     "data": {
      "text/plain": [
       "0"
      ]
     },
     "execution_count": 50,
     "metadata": {},
     "output_type": "execute_result"
    }
   ],
   "source": [
    "missings = data.isnull().sum().sum()\n",
    "missings"
   ]
  },
  {
   "cell_type": "code",
   "execution_count": 51,
   "metadata": {},
   "outputs": [
    {
     "data": {
      "text/plain": [
       "Index(['Senior Citizen', 'Partner', 'Dependents', 'Tenure Months',\n",
       "       'Phone Service', 'Multiple Lines', 'Internet Service',\n",
       "       'Online Security', 'Online Backup', 'Device Protection', 'Tech Support',\n",
       "       'Streaming TV', 'Streaming Movies', 'Contract', 'Paperless Billing',\n",
       "       'Monthly Charges', 'Churn Value', 'Bank transfer (automatic)',\n",
       "       'Credit card (automatic)', 'Electronic check', 'Mailed check'],\n",
       "      dtype='object')"
      ]
     },
     "execution_count": 51,
     "metadata": {},
     "output_type": "execute_result"
    }
   ],
   "source": [
    "data.columns"
   ]
  },
  {
   "cell_type": "code",
   "execution_count": 52,
   "metadata": {},
   "outputs": [
    {
     "data": {
      "text/html": [
       "<div>\n",
       "<style scoped>\n",
       "    .dataframe tbody tr th:only-of-type {\n",
       "        vertical-align: middle;\n",
       "    }\n",
       "\n",
       "    .dataframe tbody tr th {\n",
       "        vertical-align: top;\n",
       "    }\n",
       "\n",
       "    .dataframe thead th {\n",
       "        text-align: right;\n",
       "    }\n",
       "</style>\n",
       "<table border=\"1\" class=\"dataframe\">\n",
       "  <thead>\n",
       "    <tr style=\"text-align: right;\">\n",
       "      <th></th>\n",
       "      <th>Tenure Months</th>\n",
       "      <th>Monthly Charges</th>\n",
       "    </tr>\n",
       "  </thead>\n",
       "  <tbody>\n",
       "    <tr>\n",
       "      <td>count</td>\n",
       "      <td>7.043000e+03</td>\n",
       "      <td>7.043000e+03</td>\n",
       "    </tr>\n",
       "    <tr>\n",
       "      <td>mean</td>\n",
       "      <td>-1.614182e-17</td>\n",
       "      <td>-5.649637e-17</td>\n",
       "    </tr>\n",
       "    <tr>\n",
       "      <td>std</td>\n",
       "      <td>1.000071e+00</td>\n",
       "      <td>1.000071e+00</td>\n",
       "    </tr>\n",
       "    <tr>\n",
       "      <td>min</td>\n",
       "      <td>-1.318165e+00</td>\n",
       "      <td>-1.545860e+00</td>\n",
       "    </tr>\n",
       "    <tr>\n",
       "      <td>25%</td>\n",
       "      <td>-9.516817e-01</td>\n",
       "      <td>-9.725399e-01</td>\n",
       "    </tr>\n",
       "    <tr>\n",
       "      <td>50%</td>\n",
       "      <td>-1.372744e-01</td>\n",
       "      <td>1.857327e-01</td>\n",
       "    </tr>\n",
       "    <tr>\n",
       "      <td>75%</td>\n",
       "      <td>9.214551e-01</td>\n",
       "      <td>8.338335e-01</td>\n",
       "    </tr>\n",
       "    <tr>\n",
       "      <td>max</td>\n",
       "      <td>1.613701e+00</td>\n",
       "      <td>1.794352e+00</td>\n",
       "    </tr>\n",
       "  </tbody>\n",
       "</table>\n",
       "</div>"
      ],
      "text/plain": [
       "       Tenure Months  Monthly Charges\n",
       "count   7.043000e+03     7.043000e+03\n",
       "mean   -1.614182e-17    -5.649637e-17\n",
       "std     1.000071e+00     1.000071e+00\n",
       "min    -1.318165e+00    -1.545860e+00\n",
       "25%    -9.516817e-01    -9.725399e-01\n",
       "50%    -1.372744e-01     1.857327e-01\n",
       "75%     9.214551e-01     8.338335e-01\n",
       "max     1.613701e+00     1.794352e+00"
      ]
     },
     "execution_count": 52,
     "metadata": {},
     "output_type": "execute_result"
    }
   ],
   "source": [
    "# Standardize numerical data \n",
    "from sklearn.preprocessing import StandardScaler\n",
    "scaler = StandardScaler()\n",
    "X_num=data[['Tenure Months','Monthly Charges']]\n",
    "scaler.fit(X_num)\n",
    "X_num_sd = scaler.transform(X_num)\n",
    "X_num_sd = pd.DataFrame(X_num_sd,columns=X_num.columns)\n",
    "X_num_sd.describe()"
   ]
  },
  {
   "cell_type": "code",
   "execution_count": 53,
   "metadata": {},
   "outputs": [],
   "source": [
    "data=data.drop(['Tenure Months','Monthly Charges'], axis=1)"
   ]
  },
  {
   "cell_type": "code",
   "execution_count": 54,
   "metadata": {},
   "outputs": [],
   "source": [
    "# Combine standardized and one hot encoded\n",
    "data=data.join(X_num_sd)"
   ]
  },
  {
   "cell_type": "code",
   "execution_count": 55,
   "metadata": {},
   "outputs": [],
   "source": [
    "# split into train test set\n",
    "from sklearn.model_selection import train_test_split\n",
    "X = data[['Senior Citizen', 'Partner', 'Dependents', 'Phone Service',\n",
    "       'Multiple Lines', 'Internet Service', 'Online Security',\n",
    "       'Online Backup', 'Device Protection', 'Tech Support', 'Streaming TV',\n",
    "       'Streaming Movies', 'Contract', 'Paperless Billing','Bank transfer (automatic)', 'Credit card (automatic)',\n",
    "       'Electronic check', 'Mailed check', 'Tenure Months', 'Monthly Charges']]\n",
    "y = data[['Churn Value']]\n",
    "X_train,X_test,y_train,y_test = \\\n",
    "train_test_split(X,y,test_size=.3,random_state=123)\n",
    "\n",
    "# Define function to comput rmse\n",
    "from sklearn.metrics import mean_squared_error\n",
    "def rmse(true,pred):\n",
    "    return mean_squared_error(true,pred)**.5"
   ]
  },
  {
   "cell_type": "code",
   "execution_count": 56,
   "metadata": {},
   "outputs": [],
   "source": [
    "from sklearn.metrics import classification_report, confusion_matrix\n",
    "from sklearn import tree\n",
    "from sklearn.metrics import accuracy_score"
   ]
  },
  {
   "cell_type": "code",
   "execution_count": 57,
   "metadata": {},
   "outputs": [],
   "source": [
    "clf= tree.DecisionTreeClassifier(max_depth =5)\n",
    "clf = clf.fit(X_train, y_train)"
   ]
  },
  {
   "cell_type": "code",
   "execution_count": 58,
   "metadata": {},
   "outputs": [
    {
     "name": "stdout",
     "output_type": "stream",
     "text": [
      "Criterion=gini 0.7283483199242783\n",
      "Criterion=entropy 0.7359204921911974\n"
     ]
    }
   ],
   "source": [
    "dtree = tree.DecisionTreeClassifier(criterion='gini')\n",
    "dtree.fit(X_train, y_train)\n",
    "pred = dtree.predict(X_test)\n",
    "print('Criterion=gini', accuracy_score(y_test, pred))\n",
    "dtree = tree.DecisionTreeClassifier(criterion='entropy')\n",
    "dtree.fit(X_train, y_train)\n",
    "pred = dtree.predict(X_test)\n",
    "print('Criterion=entropy', accuracy_score(y_test, pred))"
   ]
  },
  {
   "cell_type": "code",
   "execution_count": 59,
   "metadata": {},
   "outputs": [],
   "source": [
    "import matplotlib.pyplot as plt\n",
    "max_depth = []\n",
    "acc_gini = []\n",
    "acc_entropy = []\n",
    "for i in range(1,30):\n",
    "    dtree = tree.DecisionTreeClassifier(criterion='gini', max_depth=i)\n",
    "    dtree.fit(X_train, y_train)\n",
    "    pred = dtree.predict(X_test)\n",
    "    acc_gini.append(accuracy_score(y_test, pred))\n",
    "    ####\n",
    "    dtree = tree.DecisionTreeClassifier(criterion='entropy', max_depth=i)\n",
    "    dtree.fit(X_train, y_train)\n",
    "    pred = dtree.predict(X_test)\n",
    "    acc_entropy.append(accuracy_score(y_test, pred))\n",
    " ####\n",
    "    max_depth.append(i)\n",
    "d = pd.DataFrame({'acc_gini':pd.Series(acc_gini), \n",
    " 'acc_entropy':pd.Series(acc_entropy),\n",
    " 'max_depth':pd.Series(max_depth)})\n"
   ]
  },
  {
   "cell_type": "code",
   "execution_count": 60,
   "metadata": {},
   "outputs": [
    {
     "data": {
      "text/plain": [
       "<matplotlib.legend.Legend at 0x2030f890390>"
      ]
     },
     "execution_count": 60,
     "metadata": {},
     "output_type": "execute_result"
    },
    {
     "data": {
      "image/png": "[encoded data removed]",
      "text/plain": [
       "<Figure size 432x288 with 1 Axes>"
      ]
     },
     "metadata": {
      "needs_background": "light"
     },
     "output_type": "display_data"
    }
   ],
   "source": [
    "# visualizing changes in parameters\n",
    "plt.plot('max_depth','acc_gini', data=d, label='gini')\n",
    "plt.plot('max_depth','acc_entropy', data=d, label='entropy')\n",
    "plt.xlabel('max_depth')\n",
    "plt.ylabel('accuracy')\n",
    "plt.legend()"
   ]
  },
  {
   "cell_type": "code",
   "execution_count": 61,
   "metadata": {},
   "outputs": [
    {
     "name": "stdout",
     "output_type": "stream",
     "text": [
      "Criterion=entropy 0.8144016227180527\n"
     ]
    }
   ],
   "source": [
    "dtree = tree.DecisionTreeClassifier(criterion='gini', max_depth=6)\n",
    "dtree.fit(X_train, y_train)\n",
    "pred = dtree.predict(X_train)\n",
    "print('Criterion=entropy', accuracy_score(y_train, pred))\n"
   ]
  },
  {
   "cell_type": "code",
   "execution_count": 62,
   "metadata": {},
   "outputs": [
    {
     "name": "stdout",
     "output_type": "stream",
     "text": [
      "Criterion=entropy 0.7813535257927118\n"
     ]
    }
   ],
   "source": [
    "pred = dtree.predict(X_test)\n",
    "print('Criterion=entropy', accuracy_score(y_test, pred))"
   ]
  },
  {
   "cell_type": "code",
   "execution_count": 63,
   "metadata": {},
   "outputs": [
    {
     "data": {
      "text/plain": [
       "[Text(0.6100543478260869, 0.9285714285714286, 'X[12] <= 0.5\\ngini = 0.39\\nsamples = 4930\\nvalue = [3619, 1311]'),\n",
       " Text(0.34782608695652173, 0.7857142857142857, 'X[19] <= 0.122\\ngini = 0.49\\nsamples = 2712\\nvalue = [1551, 1161]'),\n",
       " Text(0.17391304347826086, 0.6428571428571429, 'X[18] <= -1.094\\ngini = 0.409\\nsamples = 1149\\nvalue = [819, 330]'),\n",
       " Text(0.08695652173913043, 0.5, 'X[5] <= 0.5\\ngini = 0.485\\nsamples = 509\\nvalue = [298, 211]'),\n",
       " Text(0.043478260869565216, 0.35714285714285715, 'X[18] <= -1.257\\ngini = 0.358\\nsamples = 193\\nvalue = [148, 45]'),\n",
       " Text(0.021739130434782608, 0.21428571428571427, 'X[19] <= -1.513\\ngini = 0.429\\nsamples = 106\\nvalue = [73, 33]'),\n",
       " Text(0.010869565217391304, 0.07142857142857142, 'gini = 0.0\\nsamples = 8\\nvalue = [8, 0]'),\n",
       " Text(0.03260869565217391, 0.07142857142857142, 'gini = 0.447\\nsamples = 98\\nvalue = [65, 33]'),\n",
       " Text(0.06521739130434782, 0.21428571428571427, 'X[19] <= -1.299\\ngini = 0.238\\nsamples = 87\\nvalue = [75, 12]'),\n",
       " Text(0.05434782608695652, 0.07142857142857142, 'gini = 0.223\\nsamples = 86\\nvalue = [75, 11]'),\n",
       " Text(0.07608695652173914, 0.07142857142857142, 'gini = 0.0\\nsamples = 1\\nvalue = [0, 1]'),\n",
       " Text(0.13043478260869565, 0.35714285714285715, 'X[19] <= -0.317\\ngini = 0.499\\nsamples = 316\\nvalue = [150, 166]'),\n",
       " Text(0.10869565217391304, 0.21428571428571427, 'X[0] <= 0.5\\ngini = 0.491\\nsamples = 272\\nvalue = [118, 154]'),\n",
       " Text(0.09782608695652174, 0.07142857142857142, 'gini = 0.497\\nsamples = 237\\nvalue = [110, 127]'),\n",
       " Text(0.11956521739130435, 0.07142857142857142, 'gini = 0.353\\nsamples = 35\\nvalue = [8, 27]'),\n",
       " Text(0.15217391304347827, 0.21428571428571427, 'X[19] <= 0.041\\ngini = 0.397\\nsamples = 44\\nvalue = [32, 12]'),\n",
       " Text(0.14130434782608695, 0.07142857142857142, 'gini = 0.363\\nsamples = 42\\nvalue = [32, 10]'),\n",
       " Text(0.16304347826086957, 0.07142857142857142, 'gini = 0.0\\nsamples = 2\\nvalue = [0, 2]'),\n",
       " Text(0.2608695652173913, 0.5, 'X[3] <= 0.5\\ngini = 0.303\\nsamples = 640\\nvalue = [521, 119]'),\n",
       " Text(0.21739130434782608, 0.35714285714285715, 'X[2] <= 0.5\\ngini = 0.414\\nsamples = 178\\nvalue = [126, 52]'),\n",
       " Text(0.1956521739130435, 0.21428571428571427, 'X[9] <= 0.5\\ngini = 0.446\\nsamples = 140\\nvalue = [93, 47]'),\n",
       " Text(0.18478260869565216, 0.07142857142857142, 'gini = 0.473\\nsamples = 104\\nvalue = [64, 40]'),\n",
       " Text(0.20652173913043478, 0.07142857142857142, 'gini = 0.313\\nsamples = 36\\nvalue = [29, 7]'),\n",
       " Text(0.2391304347826087, 0.21428571428571427, 'X[19] <= -0.457\\ngini = 0.229\\nsamples = 38\\nvalue = [33, 5]'),\n",
       " Text(0.22826086956521738, 0.07142857142857142, 'gini = 0.193\\nsamples = 37\\nvalue = [33, 4]'),\n",
       " Text(0.25, 0.07142857142857142, 'gini = 0.0\\nsamples = 1\\nvalue = [0, 1]'),\n",
       " Text(0.30434782608695654, 0.35714285714285715, 'X[2] <= 0.5\\ngini = 0.248\\nsamples = 462\\nvalue = [395, 67]'),\n",
       " Text(0.2826086956521739, 0.21428571428571427, 'X[18] <= -0.402\\ngini = 0.291\\nsamples = 323\\nvalue = [266, 57]'),\n",
       " Text(0.2717391304347826, 0.07142857142857142, 'gini = 0.336\\nsamples = 220\\nvalue = [173, 47]'),\n",
       " Text(0.29347826086956524, 0.07142857142857142, 'gini = 0.175\\nsamples = 103\\nvalue = [93, 10]'),\n",
       " Text(0.32608695652173914, 0.21428571428571427, 'X[19] <= -0.326\\ngini = 0.134\\nsamples = 139\\nvalue = [129, 10]'),\n",
       " Text(0.31521739130434784, 0.07142857142857142, 'gini = 0.075\\nsamples = 102\\nvalue = [98, 4]'),\n",
       " Text(0.33695652173913043, 0.07142857142857142, 'gini = 0.272\\nsamples = 37\\nvalue = [31, 6]'),\n",
       " Text(0.5217391304347826, 0.6428571428571429, 'X[18] <= -0.728\\ngini = 0.498\\nsamples = 1563\\nvalue = [732, 831]'),\n",
       " Text(0.43478260869565216, 0.5, 'X[18] <= -1.257\\ngini = 0.425\\nsamples = 734\\nvalue = [225, 509]'),\n",
       " Text(0.391304347826087, 0.35714285714285715, 'X[9] <= 0.5\\ngini = 0.223\\nsamples = 172\\nvalue = [22, 150]'),\n",
       " Text(0.3695652173913043, 0.21428571428571427, 'X[2] <= 0.5\\ngini = 0.167\\nsamples = 163\\nvalue = [15, 148]'),\n",
       " Text(0.358695652173913, 0.07142857142857142, 'gini = 0.152\\nsamples = 157\\nvalue = [13, 144]'),\n",
       " Text(0.3804347826086957, 0.07142857142857142, 'gini = 0.444\\nsamples = 6\\nvalue = [2, 4]'),\n",
       " Text(0.41304347826086957, 0.21428571428571427, 'X[19] <= 0.364\\ngini = 0.346\\nsamples = 9\\nvalue = [7, 2]'),\n",
       " Text(0.40217391304347827, 0.07142857142857142, 'gini = 0.0\\nsamples = 5\\nvalue = [5, 0]'),\n",
       " Text(0.42391304347826086, 0.07142857142857142, 'gini = 0.5\\nsamples = 4\\nvalue = [2, 2]'),\n",
       " Text(0.4782608695652174, 0.35714285714285715, 'X[19] <= 0.619\\ngini = 0.461\\nsamples = 562\\nvalue = [203, 359]'),\n",
       " Text(0.45652173913043476, 0.21428571428571427, 'X[6] <= 0.5\\ngini = 0.496\\nsamples = 299\\nvalue = [136, 163]'),\n",
       " Text(0.44565217391304346, 0.07142857142857142, 'gini = 0.484\\nsamples = 259\\nvalue = [106, 153]'),\n",
       " Text(0.4673913043478261, 0.07142857142857142, 'gini = 0.375\\nsamples = 40\\nvalue = [30, 10]'),\n",
       " Text(0.5, 0.21428571428571427, 'X[2] <= 0.5\\ngini = 0.38\\nsamples = 263\\nvalue = [67, 196]'),\n",
       " Text(0.4891304347826087, 0.07142857142857142, 'gini = 0.351\\nsamples = 242\\nvalue = [55, 187]'),\n",
       " Text(0.5108695652173914, 0.07142857142857142, 'gini = 0.49\\nsamples = 21\\nvalue = [12, 9]'),\n",
       " Text(0.6086956521739131, 0.5, 'X[2] <= 0.5\\ngini = 0.475\\nsamples = 829\\nvalue = [507, 322]'),\n",
       " Text(0.5652173913043478, 0.35714285714285715, 'X[16] <= 0.5\\ngini = 0.493\\nsamples = 707\\nvalue = [395, 312]'),\n",
       " Text(0.5434782608695652, 0.21428571428571427, 'X[9] <= 0.5\\ngini = 0.452\\nsamples = 321\\nvalue = [210, 111]'),\n",
       " Text(0.532608695652174, 0.07142857142857142, 'gini = 0.479\\nsamples = 239\\nvalue = [144, 95]'),\n",
       " Text(0.5543478260869565, 0.07142857142857142, 'gini = 0.314\\nsamples = 82\\nvalue = [66, 16]'),\n",
       " Text(0.5869565217391305, 0.21428571428571427, 'X[18] <= -0.198\\ngini = 0.499\\nsamples = 386\\nvalue = [185, 201]'),\n",
       " Text(0.5760869565217391, 0.07142857142857142, 'gini = 0.471\\nsamples = 150\\nvalue = [57, 93]'),\n",
       " Text(0.5978260869565217, 0.07142857142857142, 'gini = 0.496\\nsamples = 236\\nvalue = [128, 108]'),\n",
       " Text(0.6521739130434783, 0.35714285714285715, 'X[16] <= 0.5\\ngini = 0.15\\nsamples = 122\\nvalue = [112, 10]'),\n",
       " Text(0.6304347826086957, 0.21428571428571427, 'X[13] <= 0.5\\ngini = 0.03\\nsamples = 66\\nvalue = [65, 1]'),\n",
       " Text(0.6195652173913043, 0.07142857142857142, 'gini = 0.105\\nsamples = 18\\nvalue = [17, 1]'),\n",
       " Text(0.6413043478260869, 0.07142857142857142, 'gini = 0.0\\nsamples = 48\\nvalue = [48, 0]'),\n",
       " Text(0.6739130434782609, 0.21428571428571427, 'X[1] <= 0.5\\ngini = 0.27\\nsamples = 56\\nvalue = [47, 9]'),\n",
       " Text(0.6630434782608695, 0.07142857142857142, 'gini = 0.5\\nsamples = 6\\nvalue = [3, 3]'),\n",
       " Text(0.6847826086956522, 0.07142857142857142, 'gini = 0.211\\nsamples = 50\\nvalue = [44, 6]'),\n",
       " Text(0.8722826086956522, 0.7857142857142857, 'X[19] <= 0.961\\ngini = 0.126\\nsamples = 2218\\nvalue = [2068, 150]'),\n",
       " Text(0.7934782608695652, 0.6428571428571429, 'X[2] <= 0.5\\ngini = 0.076\\nsamples = 1673\\nvalue = [1607, 66]'),\n",
       " Text(0.782608695652174, 0.5, 'X[16] <= 0.5\\ngini = 0.112\\nsamples = 1110\\nvalue = [1044, 66]'),\n",
       " Text(0.7391304347826086, 0.35714285714285715, 'X[18] <= 0.657\\ngini = 0.091\\nsamples = 962\\nvalue = [916, 46]'),\n",
       " Text(0.717391304347826, 0.21428571428571427, 'X[11] <= 0.5\\ngini = 0.133\\nsamples = 459\\nvalue = [426, 33]'),\n",
       " Text(0.7065217391304348, 0.07142857142857142, 'gini = 0.092\\nsamples = 353\\nvalue = [336, 17]'),\n",
       " Text(0.7282608695652174, 0.07142857142857142, 'gini = 0.256\\nsamples = 106\\nvalue = [90, 16]'),\n",
       " Text(0.7608695652173914, 0.21428571428571427, 'X[18] <= 1.512\\ngini = 0.05\\nsamples = 503\\nvalue = [490, 13]'),\n",
       " Text(0.75, 0.07142857142857142, 'gini = 0.073\\nsamples = 345\\nvalue = [332, 13]'),\n",
       " Text(0.7717391304347826, 0.07142857142857142, 'gini = 0.0\\nsamples = 158\\nvalue = [158, 0]'),\n",
       " Text(0.8260869565217391, 0.35714285714285715, 'X[3] <= 0.5\\ngini = 0.234\\nsamples = 148\\nvalue = [128, 20]'),\n",
       " Text(0.8043478260869565, 0.21428571428571427, 'X[18] <= -0.789\\ngini = 0.391\\nsamples = 30\\nvalue = [22, 8]'),\n",
       " Text(0.7934782608695652, 0.07142857142857142, 'gini = 0.0\\nsamples = 1\\nvalue = [0, 1]'),\n",
       " Text(0.8152173913043478, 0.07142857142857142, 'gini = 0.366\\nsamples = 29\\nvalue = [22, 7]'),\n",
       " Text(0.8478260869565217, 0.21428571428571427, 'X[19] <= 0.599\\ngini = 0.183\\nsamples = 118\\nvalue = [106, 12]'),\n",
       " Text(0.8369565217391305, 0.07142857142857142, 'gini = 0.093\\nsamples = 82\\nvalue = [78, 4]'),\n",
       " Text(0.8586956521739131, 0.07142857142857142, 'gini = 0.346\\nsamples = 36\\nvalue = [28, 8]'),\n",
       " Text(0.8043478260869565, 0.5, 'gini = 0.0\\nsamples = 563\\nvalue = [563, 0]'),\n",
       " Text(0.9510869565217391, 0.6428571428571429, 'X[2] <= 0.5\\ngini = 0.261\\nsamples = 545\\nvalue = [461, 84]'),\n",
       " Text(0.9402173913043478, 0.5, 'X[18] <= 1.553\\ngini = 0.329\\nsamples = 405\\nvalue = [321, 84]'),\n",
       " Text(0.9130434782608695, 0.35714285714285715, 'X[19] <= 1.278\\ngini = 0.379\\nsamples = 311\\nvalue = [232, 79]'),\n",
       " Text(0.8913043478260869, 0.21428571428571427, 'X[0] <= 0.5\\ngini = 0.305\\nsamples = 144\\nvalue = [117, 27]'),\n",
       " Text(0.8804347826086957, 0.07142857142857142, 'gini = 0.356\\nsamples = 108\\nvalue = [83, 25]'),\n",
       " Text(0.9021739130434783, 0.07142857142857142, 'gini = 0.105\\nsamples = 36\\nvalue = [34, 2]'),\n",
       " Text(0.9347826086956522, 0.21428571428571427, 'X[19] <= 1.311\\ngini = 0.429\\nsamples = 167\\nvalue = [115, 52]'),\n",
       " Text(0.9239130434782609, 0.07142857142857142, 'gini = 0.43\\nsamples = 16\\nvalue = [5, 11]'),\n",
       " Text(0.9456521739130435, 0.07142857142857142, 'gini = 0.396\\nsamples = 151\\nvalue = [110, 41]'),\n",
       " Text(0.967391304347826, 0.35714285714285715, 'X[19] <= 0.992\\ngini = 0.101\\nsamples = 94\\nvalue = [89, 5]'),\n",
       " Text(0.9565217391304348, 0.21428571428571427, 'gini = 0.0\\nsamples = 1\\nvalue = [0, 1]'),\n",
       " Text(0.9782608695652174, 0.21428571428571427, 'X[19] <= 1.755\\ngini = 0.082\\nsamples = 93\\nvalue = [89, 4]'),\n",
       " Text(0.967391304347826, 0.07142857142857142, 'gini = 0.064\\nsamples = 91\\nvalue = [88, 3]'),\n",
       " Text(0.9891304347826086, 0.07142857142857142, 'gini = 0.5\\nsamples = 2\\nvalue = [1, 1]'),\n",
       " Text(0.9619565217391305, 0.5, 'gini = 0.0\\nsamples = 140\\nvalue = [140, 0]')]"
      ]
     },
     "execution_count": 63,
     "metadata": {},
     "output_type": "execute_result"
    },
    {
     "data": {
      "image/png": "[encoded data removed]",
      "text/plain": [
       "<Figure size 432x288 with 1 Axes>"
      ]
     },
     "metadata": {
      "needs_background": "light"
     },
     "output_type": "display_data"
    }
   ],
   "source": [
    "tree.plot_tree(dtree)"
   ]
  },
  {
   "cell_type": "code",
   "execution_count": 64,
   "metadata": {},
   "outputs": [
    {
     "ename": "ModuleNotFoundError",
     "evalue": "No module named 'graphviz'",
     "output_type": "error",
     "traceback": [
      "\u001b[1;31m---------------------------------------------------------------------------\u001b[0m",
      "\u001b[1;31mModuleNotFoundError\u001b[0m                       Traceback (most recent call last)",
      "\u001b[1;32m<ipython-input-64-e8062a68d313>\u001b[0m in \u001b[0;36m<module>\u001b[1;34m\u001b[0m\n\u001b[1;32m----> 1\u001b[1;33m \u001b[1;32mimport\u001b[0m \u001b[0mgraphviz\u001b[0m\u001b[1;33m\u001b[0m\u001b[1;33m\u001b[0m\u001b[0m\n\u001b[0m\u001b[0;32m      2\u001b[0m \u001b[0mdot_data\u001b[0m \u001b[1;33m=\u001b[0m \u001b[0mtree\u001b[0m\u001b[1;33m.\u001b[0m\u001b[0mexport_graphviz\u001b[0m\u001b[1;33m(\u001b[0m\u001b[0mdtree\u001b[0m\u001b[1;33m,\u001b[0m \u001b[0mout_file\u001b[0m\u001b[1;33m=\u001b[0m\u001b[1;32mNone\u001b[0m\u001b[1;33m,\u001b[0m \u001b[0mfilled\u001b[0m\u001b[1;33m=\u001b[0m\u001b[1;32mTrue\u001b[0m\u001b[1;33m,\u001b[0m \u001b[0mrounded\u001b[0m\u001b[1;33m=\u001b[0m\u001b[1;32mTrue\u001b[0m\u001b[1;33m)\u001b[0m\u001b[1;33m\u001b[0m\u001b[1;33m\u001b[0m\u001b[0m\n\u001b[0;32m      3\u001b[0m \u001b[0mgraph\u001b[0m \u001b[1;33m=\u001b[0m \u001b[0mgraphviz\u001b[0m\u001b[1;33m.\u001b[0m\u001b[0mSource\u001b[0m\u001b[1;33m(\u001b[0m\u001b[0mdot_data\u001b[0m\u001b[1;33m)\u001b[0m\u001b[1;33m\u001b[0m\u001b[1;33m\u001b[0m\u001b[0m\n\u001b[0;32m      4\u001b[0m \u001b[0mgraph\u001b[0m\u001b[1;33m\u001b[0m\u001b[1;33m\u001b[0m\u001b[0m\n",
      "\u001b[1;31mModuleNotFoundError\u001b[0m: No module named 'graphviz'"
     ]
    }
   ],
   "source": [
    "import graphviz\n",
    "dot_data = tree.export_graphviz(dtree, out_file=None, filled=True, rounded=True) \n",
    "graph = graphviz.Source(dot_data) \n",
    "graph"
   ]
  },
  {
   "cell_type": "code",
   "execution_count": null,
   "metadata": {},
   "outputs": [],
   "source": [
    "from sklearn.ensemble import RandomForestRegressor"
   ]
  },
  {
   "cell_type": "code",
   "execution_count": null,
   "metadata": {},
   "outputs": [
    {
     "name": "stderr",
     "output_type": "stream",
     "text": [
      "C:\\Users\\GU44DR\\AppData\\Local\\Temp\\ipykernel_30564\\1505746643.py:2: DataConversionWarning: A column-vector y was passed when a 1d array was expected. Please change the shape of y to (n_samples,), for example using ravel().\n",
      "  rf.fit(X_train,y_train)\n"
     ]
    },
    {
     "name": "stdout",
     "output_type": "stream",
     "text": [
      "Train 0.15010641179731907\n",
      "Test 0.38580945361246133\n"
     ]
    }
   ],
   "source": [
    "rf = RandomForestRegressor(n_estimators=40,n_jobs=12)\n",
    "rf.fit(X_train,y_train)\n",
    "\n",
    "print(\"Train\", rmse(y_train,rf.predict(X_train)))\n",
    "print(\"Test\", rmse(y_test,rf.predict(X_test)))"
   ]
  },
  {
   "cell_type": "code",
   "execution_count": null,
   "metadata": {},
   "outputs": [
    {
     "data": {
      "text/plain": [
       "[DecisionTreeRegressor(max_features='auto', random_state=363891797),\n",
       " DecisionTreeRegressor(max_features='auto', random_state=2146406611),\n",
       " DecisionTreeRegressor(max_features='auto', random_state=561941463),\n",
       " DecisionTreeRegressor(max_features='auto', random_state=1192525637),\n",
       " DecisionTreeRegressor(max_features='auto', random_state=1069536212),\n",
       " DecisionTreeRegressor(max_features='auto', random_state=351757473),\n",
       " DecisionTreeRegressor(max_features='auto', random_state=2007707978),\n",
       " DecisionTreeRegressor(max_features='auto', random_state=1063323694),\n",
       " DecisionTreeRegressor(max_features='auto', random_state=1040330575),\n",
       " DecisionTreeRegressor(max_features='auto', random_state=417114174),\n",
       " DecisionTreeRegressor(max_features='auto', random_state=1395110916),\n",
       " DecisionTreeRegressor(max_features='auto', random_state=1551789199),\n",
       " DecisionTreeRegressor(max_features='auto', random_state=2046517327),\n",
       " DecisionTreeRegressor(max_features='auto', random_state=268904149),\n",
       " DecisionTreeRegressor(max_features='auto', random_state=981736356),\n",
       " DecisionTreeRegressor(max_features='auto', random_state=1588199515),\n",
       " DecisionTreeRegressor(max_features='auto', random_state=532814925),\n",
       " DecisionTreeRegressor(max_features='auto', random_state=726819187),\n",
       " DecisionTreeRegressor(max_features='auto', random_state=1315631543),\n",
       " DecisionTreeRegressor(max_features='auto', random_state=946626560),\n",
       " DecisionTreeRegressor(max_features='auto', random_state=985364313),\n",
       " DecisionTreeRegressor(max_features='auto', random_state=308087371),\n",
       " DecisionTreeRegressor(max_features='auto', random_state=1976231800),\n",
       " DecisionTreeRegressor(max_features='auto', random_state=1940267226),\n",
       " DecisionTreeRegressor(max_features='auto', random_state=1212800896),\n",
       " DecisionTreeRegressor(max_features='auto', random_state=222151599),\n",
       " DecisionTreeRegressor(max_features='auto', random_state=307498007),\n",
       " DecisionTreeRegressor(max_features='auto', random_state=1511947966),\n",
       " DecisionTreeRegressor(max_features='auto', random_state=35065605),\n",
       " DecisionTreeRegressor(max_features='auto', random_state=1876059841),\n",
       " DecisionTreeRegressor(max_features='auto', random_state=211003063),\n",
       " DecisionTreeRegressor(max_features='auto', random_state=1316770862),\n",
       " DecisionTreeRegressor(max_features='auto', random_state=1508708570),\n",
       " DecisionTreeRegressor(max_features='auto', random_state=2099099322),\n",
       " DecisionTreeRegressor(max_features='auto', random_state=1542391776),\n",
       " DecisionTreeRegressor(max_features='auto', random_state=84936293),\n",
       " DecisionTreeRegressor(max_features='auto', random_state=511581528),\n",
       " DecisionTreeRegressor(max_features='auto', random_state=860988011),\n",
       " DecisionTreeRegressor(max_features='auto', random_state=1345451299),\n",
       " DecisionTreeRegressor(max_features='auto', random_state=1043946207)]"
      ]
     },
     "execution_count": 35,
     "metadata": {},
     "output_type": "execute_result"
    }
   ],
   "source": [
    "rf.estimators_"
   ]
  },
  {
   "cell_type": "code",
   "execution_count": null,
   "metadata": {},
   "outputs": [
    {
     "name": "stdout",
     "output_type": "stream",
     "text": [
      "Fitting 5 folds for each of 27 candidates, totalling 135 fits\n"
     ]
    },
    {
     "name": "stderr",
     "output_type": "stream",
     "text": [
      "c:\\ProgramData\\anaconda3\\lib\\site-packages\\sklearn\\model_selection\\_search.py:926: DataConversionWarning: A column-vector y was passed when a 1d array was expected. Please change the shape of y to (n_samples,), for example using ravel().\n",
      "  self.best_estimator_.fit(X, y, **fit_params)\n"
     ]
    },
    {
     "data": {
      "text/plain": [
       "GridSearchCV(cv=5, estimator=RandomForestRegressor(n_jobs=12), n_jobs=12,\n",
       "             param_grid={'max_depth': [5, 8, 10],\n",
       "                         'min_samples_split': [5, 10, 30],\n",
       "                         'n_estimators': [50, 100, 300]},\n",
       "             verbose=1)"
      ]
     },
     "execution_count": 36,
     "metadata": {},
     "output_type": "execute_result"
    }
   ],
   "source": [
    "# Tuning RF\n",
    "from sklearn.model_selection import GridSearchCV\n",
    "rf = RandomForestRegressor(n_jobs=12)\n",
    "\n",
    "params={\"n_estimators\": [50,100,300],\n",
    "       'max_depth': [5,8,10],\n",
    "       'min_samples_split': [5,10,30]}\n",
    "\n",
    "tuning = GridSearchCV(rf,\n",
    "                      param_grid=params,\n",
    "                     cv=5,\n",
    "                     n_jobs=12,\n",
    "                     verbose=1)\n",
    "\n",
    "tuning.fit(X_train,y_train)"
   ]
  },
  {
   "cell_type": "code",
   "execution_count": null,
   "metadata": {},
   "outputs": [
    {
     "data": {
      "text/plain": [
       "RandomForestRegressor(max_depth=8, min_samples_split=30, n_jobs=12)"
      ]
     },
     "execution_count": 37,
     "metadata": {},
     "output_type": "execute_result"
    }
   ],
   "source": [
    "tuning.best_estimator_"
   ]
  },
  {
   "cell_type": "code",
   "execution_count": null,
   "metadata": {},
   "outputs": [
    {
     "name": "stdout",
     "output_type": "stream",
     "text": [
      "Train 0.32974467991907286\n",
      "Test 0.36570787464992277\n"
     ]
    }
   ],
   "source": [
    "print(\"Train\", rmse(y_train,tuning.predict(X_train)))\n",
    "print(\"Test\", rmse(y_test,tuning.predict(X_test)))"
   ]
  },
  {
   "cell_type": "code",
   "execution_count": null,
   "metadata": {},
   "outputs": [],
   "source": [
    "from sklearn.ensemble import GradientBoostingRegressor\n",
    "gbm = GradientBoostingRegressor(n_estimators=700,learning_rate=.1)"
   ]
  },
  {
   "cell_type": "code",
   "execution_count": null,
   "metadata": {},
   "outputs": [
    {
     "name": "stderr",
     "output_type": "stream",
     "text": [
      "c:\\ProgramData\\anaconda3\\lib\\site-packages\\sklearn\\ensemble\\_gb.py:494: DataConversionWarning: A column-vector y was passed when a 1d array was expected. Please change the shape of y to (n_samples, ), for example using ravel().\n",
      "  y = column_or_1d(y, warn=True)\n"
     ]
    },
    {
     "name": "stdout",
     "output_type": "stream",
     "text": [
      "Train 0.2920191302003345\n",
      "Test 0.3764976079401596\n"
     ]
    }
   ],
   "source": [
    "gbm.fit(X_train,y_train)\n",
    "\n",
    "print(\"Train\", rmse(y_train,gbm.predict(X_train)))\n",
    "print(\"Test\", rmse(y_test,gbm.predict(X_test)))"
   ]
  },
  {
   "cell_type": "code",
   "execution_count": null,
   "metadata": {},
   "outputs": [],
   "source": [
    "importance = pd.DataFrame({\n",
    "    \"variable\": X_train.columns,\n",
    "    \"importance\": gbm.feature_importances_})"
   ]
  },
  {
   "cell_type": "code",
   "execution_count": null,
   "metadata": {},
   "outputs": [
    {
     "data": {
      "text/html": [
       "<div>\n",
       "<style scoped>\n",
       "    .dataframe tbody tr th:only-of-type {\n",
       "        vertical-align: middle;\n",
       "    }\n",
       "\n",
       "    .dataframe tbody tr th {\n",
       "        vertical-align: top;\n",
       "    }\n",
       "\n",
       "    .dataframe thead th {\n",
       "        text-align: right;\n",
       "    }\n",
       "</style>\n",
       "<table border=\"1\" class=\"dataframe\">\n",
       "  <thead>\n",
       "    <tr style=\"text-align: right;\">\n",
       "      <th></th>\n",
       "      <th>variable</th>\n",
       "      <th>importance</th>\n",
       "    </tr>\n",
       "  </thead>\n",
       "  <tbody>\n",
       "    <tr>\n",
       "      <th>19</th>\n",
       "      <td>Monthly Charges</td>\n",
       "      <td>0.303099</td>\n",
       "    </tr>\n",
       "    <tr>\n",
       "      <th>12</th>\n",
       "      <td>Contract</td>\n",
       "      <td>0.268425</td>\n",
       "    </tr>\n",
       "    <tr>\n",
       "      <th>18</th>\n",
       "      <td>Tenure Months</td>\n",
       "      <td>0.190715</td>\n",
       "    </tr>\n",
       "    <tr>\n",
       "      <th>2</th>\n",
       "      <td>Dependents</td>\n",
       "      <td>0.063985</td>\n",
       "    </tr>\n",
       "    <tr>\n",
       "      <th>16</th>\n",
       "      <td>Electronic check</td>\n",
       "      <td>0.042894</td>\n",
       "    </tr>\n",
       "    <tr>\n",
       "      <th>5</th>\n",
       "      <td>Internet Service</td>\n",
       "      <td>0.035044</td>\n",
       "    </tr>\n",
       "    <tr>\n",
       "      <th>13</th>\n",
       "      <td>Paperless Billing</td>\n",
       "      <td>0.014556</td>\n",
       "    </tr>\n",
       "    <tr>\n",
       "      <th>6</th>\n",
       "      <td>Online Security</td>\n",
       "      <td>0.013513</td>\n",
       "    </tr>\n",
       "    <tr>\n",
       "      <th>9</th>\n",
       "      <td>Tech Support</td>\n",
       "      <td>0.010778</td>\n",
       "    </tr>\n",
       "    <tr>\n",
       "      <th>0</th>\n",
       "      <td>Senior Citizen</td>\n",
       "      <td>0.010769</td>\n",
       "    </tr>\n",
       "    <tr>\n",
       "      <th>11</th>\n",
       "      <td>Streaming Movies</td>\n",
       "      <td>0.008072</td>\n",
       "    </tr>\n",
       "    <tr>\n",
       "      <th>1</th>\n",
       "      <td>Partner</td>\n",
       "      <td>0.006458</td>\n",
       "    </tr>\n",
       "    <tr>\n",
       "      <th>4</th>\n",
       "      <td>Multiple Lines</td>\n",
       "      <td>0.005598</td>\n",
       "    </tr>\n",
       "    <tr>\n",
       "      <th>10</th>\n",
       "      <td>Streaming TV</td>\n",
       "      <td>0.005520</td>\n",
       "    </tr>\n",
       "    <tr>\n",
       "      <th>8</th>\n",
       "      <td>Device Protection</td>\n",
       "      <td>0.005353</td>\n",
       "    </tr>\n",
       "    <tr>\n",
       "      <th>3</th>\n",
       "      <td>Phone Service</td>\n",
       "      <td>0.003920</td>\n",
       "    </tr>\n",
       "    <tr>\n",
       "      <th>7</th>\n",
       "      <td>Online Backup</td>\n",
       "      <td>0.003514</td>\n",
       "    </tr>\n",
       "    <tr>\n",
       "      <th>14</th>\n",
       "      <td>Bank transfer (automatic)</td>\n",
       "      <td>0.002986</td>\n",
       "    </tr>\n",
       "    <tr>\n",
       "      <th>17</th>\n",
       "      <td>Mailed check</td>\n",
       "      <td>0.002471</td>\n",
       "    </tr>\n",
       "    <tr>\n",
       "      <th>15</th>\n",
       "      <td>Credit card (automatic)</td>\n",
       "      <td>0.002329</td>\n",
       "    </tr>\n",
       "  </tbody>\n",
       "</table>\n",
       "</div>"
      ],
      "text/plain": [
       "                     variable  importance\n",
       "19            Monthly Charges    0.303099\n",
       "12                   Contract    0.268425\n",
       "18              Tenure Months    0.190715\n",
       "2                  Dependents    0.063985\n",
       "16           Electronic check    0.042894\n",
       "5            Internet Service    0.035044\n",
       "13          Paperless Billing    0.014556\n",
       "6             Online Security    0.013513\n",
       "9                Tech Support    0.010778\n",
       "0              Senior Citizen    0.010769\n",
       "11           Streaming Movies    0.008072\n",
       "1                     Partner    0.006458\n",
       "4              Multiple Lines    0.005598\n",
       "10               Streaming TV    0.005520\n",
       "8           Device Protection    0.005353\n",
       "3               Phone Service    0.003920\n",
       "7               Online Backup    0.003514\n",
       "14  Bank transfer (automatic)    0.002986\n",
       "17               Mailed check    0.002471\n",
       "15    Credit card (automatic)    0.002329"
      ]
     },
     "execution_count": 42,
     "metadata": {},
     "output_type": "execute_result"
    }
   ],
   "source": [
    "importance.sort_values(\"importance\",ascending=False)"
   ]
  },
  {
   "cell_type": "code",
   "execution_count": null,
   "metadata": {},
   "outputs": [
    {
     "name": "stderr",
     "output_type": "stream",
     "text": [
      "c:\\ProgramData\\anaconda3\\lib\\site-packages\\sklearn\\utils\\deprecation.py:87: FutureWarning: Function plot_partial_dependence is deprecated; Function `plot_partial_dependence` is deprecated in 1.0 and will be removed in 1.2. Use PartialDependenceDisplay.from_estimator instead\n",
      "  warnings.warn(msg, category=FutureWarning)\n"
     ]
    },
    {
     "data": {
      "text/plain": [
       "<sklearn.inspection._plot.partial_dependence.PartialDependenceDisplay at 0x2c26850d5e0>"
      ]
     },
     "execution_count": 43,
     "metadata": {},
     "output_type": "execute_result"
    },
    {
     "data": {
      "image/png": "[encoded data removed]",
      "text/plain": [
       "<Figure size 640x480 with 3 Axes>"
      ]
     },
     "metadata": {},
     "output_type": "display_data"
    }
   ],
   "source": [
    "from sklearn.inspection import plot_partial_dependence\n",
    "plot_partial_dependence(gbm,X_test,[4,3])"
   ]
  },
  {
   "cell_type": "code",
   "execution_count": null,
   "metadata": {},
   "outputs": [],
   "source": [
    "#XGBoost"
   ]
  },
  {
   "cell_type": "code",
   "execution_count": null,
   "metadata": {},
   "outputs": [],
   "source": [
    "X_train_new,X_validation_new,y_train_new,y_validation_new = \\\n",
    "train_test_split(X,y,test_size=.2,random_state=42)"
   ]
  },
  {
   "cell_type": "code",
   "execution_count": null,
   "metadata": {},
   "outputs": [],
   "source": [
    "import xgboost"
   ]
  },
  {
   "cell_type": "code",
   "execution_count": null,
   "metadata": {},
   "outputs": [],
   "source": [
    "train_xgb=xgboost.DMatrix(X_train_new,y_train_new)\n",
    "validation_xgb=xgboost.DMatrix(X_validation_new,y_validation_new)\n",
    "\n",
    "test_xgb=xgboost.DMatrix(X_test,y_test)"
   ]
  },
  {
   "cell_type": "code",
   "execution_count": null,
   "metadata": {},
   "outputs": [
    {
     "name": "stdout",
     "output_type": "stream",
     "text": [
      "[16:42:56] WARNING: C:/buildkite-agent/builds/buildkite-windows-cpu-autoscaling-group-i-03de431ba26204c4d-1/xgboost/xgboost-ci-windows/src/learner.cc:339: No visible GPU is found, setting `gpu_id` to -1\n"
     ]
    },
    {
     "ename": "XGBoostError",
     "evalue": "[16:42:56] C:/buildkite-agent/builds/buildkite-windows-cpu-autoscaling-group-i-03de431ba26204c4d-1/xgboost/xgboost-ci-windows/src/gbm/gbtree.cc:611: Check failed: common::AllVisibleGPUs() >= 1 (0 vs. 1) : No visible GPU is found for XGBoost.",
     "output_type": "error",
     "traceback": [
      "\u001b[1;31m---------------------------------------------------------------------------\u001b[0m",
      "\u001b[1;31mXGBoostError\u001b[0m                              Traceback (most recent call last)",
      "\u001b[1;32m~\\AppData\\Local\\Temp\\ipykernel_30564\\2303782954.py\u001b[0m in \u001b[0;36m<module>\u001b[1;34m\u001b[0m\n\u001b[0;32m      1\u001b[0m \u001b[0mxgb_results\u001b[0m\u001b[1;33m=\u001b[0m\u001b[1;33m{\u001b[0m\u001b[1;33m}\u001b[0m\u001b[1;33m\u001b[0m\u001b[1;33m\u001b[0m\u001b[0m\n\u001b[1;32m----> 2\u001b[1;33m xgb  = xgboost.train(params={'max_depth': 5,\n\u001b[0m\u001b[0;32m      3\u001b[0m                             \u001b[1;34m'eta'\u001b[0m\u001b[1;33m:\u001b[0m \u001b[1;36m.04\u001b[0m\u001b[1;33m,\u001b[0m\u001b[1;33m\u001b[0m\u001b[1;33m\u001b[0m\u001b[0m\n\u001b[0;32m      4\u001b[0m                             'tree_method': \"gpu_hist\"},\n\u001b[0;32m      5\u001b[0m                     \u001b[0mdtrain\u001b[0m\u001b[1;33m=\u001b[0m\u001b[0mtrain_xgb\u001b[0m\u001b[1;33m,\u001b[0m\u001b[1;33m\u001b[0m\u001b[1;33m\u001b[0m\u001b[0m\n",
      "\u001b[1;32mc:\\ProgramData\\anaconda3\\lib\\site-packages\\xgboost\\core.py\u001b[0m in \u001b[0;36minner_f\u001b[1;34m(*args, **kwargs)\u001b[0m\n\u001b[0;32m    618\u001b[0m             \u001b[1;32mfor\u001b[0m \u001b[0mk\u001b[0m\u001b[1;33m,\u001b[0m \u001b[0marg\u001b[0m \u001b[1;32min\u001b[0m \u001b[0mzip\u001b[0m\u001b[1;33m(\u001b[0m\u001b[0msig\u001b[0m\u001b[1;33m.\u001b[0m\u001b[0mparameters\u001b[0m\u001b[1;33m,\u001b[0m \u001b[0margs\u001b[0m\u001b[1;33m)\u001b[0m\u001b[1;33m:\u001b[0m\u001b[1;33m\u001b[0m\u001b[1;33m\u001b[0m\u001b[0m\n\u001b[0;32m    619\u001b[0m                 \u001b[0mkwargs\u001b[0m\u001b[1;33m[\u001b[0m\u001b[0mk\u001b[0m\u001b[1;33m]\u001b[0m \u001b[1;33m=\u001b[0m \u001b[0marg\u001b[0m\u001b[1;33m\u001b[0m\u001b[1;33m\u001b[0m\u001b[0m\n\u001b[1;32m--> 620\u001b[1;33m             \u001b[1;32mreturn\u001b[0m \u001b[0mfunc\u001b[0m\u001b[1;33m(\u001b[0m\u001b[1;33m**\u001b[0m\u001b[0mkwargs\u001b[0m\u001b[1;33m)\u001b[0m\u001b[1;33m\u001b[0m\u001b[1;33m\u001b[0m\u001b[0m\n\u001b[0m\u001b[0;32m    621\u001b[0m \u001b[1;33m\u001b[0m\u001b[0m\n\u001b[0;32m    622\u001b[0m         \u001b[1;32mreturn\u001b[0m \u001b[0minner_f\u001b[0m\u001b[1;33m\u001b[0m\u001b[1;33m\u001b[0m\u001b[0m\n",
      "\u001b[1;32mc:\\ProgramData\\anaconda3\\lib\\site-packages\\xgboost\\training.py\u001b[0m in \u001b[0;36mtrain\u001b[1;34m(params, dtrain, num_boost_round, evals, obj, feval, maximize, early_stopping_rounds, evals_result, verbose_eval, xgb_model, callbacks, custom_metric)\u001b[0m\n\u001b[0;32m    183\u001b[0m         \u001b[1;32mif\u001b[0m \u001b[0mcb_container\u001b[0m\u001b[1;33m.\u001b[0m\u001b[0mbefore_iteration\u001b[0m\u001b[1;33m(\u001b[0m\u001b[0mbst\u001b[0m\u001b[1;33m,\u001b[0m \u001b[0mi\u001b[0m\u001b[1;33m,\u001b[0m \u001b[0mdtrain\u001b[0m\u001b[1;33m,\u001b[0m \u001b[0mevals\u001b[0m\u001b[1;33m)\u001b[0m\u001b[1;33m:\u001b[0m\u001b[1;33m\u001b[0m\u001b[1;33m\u001b[0m\u001b[0m\n\u001b[0;32m    184\u001b[0m             \u001b[1;32mbreak\u001b[0m\u001b[1;33m\u001b[0m\u001b[1;33m\u001b[0m\u001b[0m\n\u001b[1;32m--> 185\u001b[1;33m         \u001b[0mbst\u001b[0m\u001b[1;33m.\u001b[0m\u001b[0mupdate\u001b[0m\u001b[1;33m(\u001b[0m\u001b[0mdtrain\u001b[0m\u001b[1;33m,\u001b[0m \u001b[0mi\u001b[0m\u001b[1;33m,\u001b[0m \u001b[0mobj\u001b[0m\u001b[1;33m)\u001b[0m\u001b[1;33m\u001b[0m\u001b[1;33m\u001b[0m\u001b[0m\n\u001b[0m\u001b[0;32m    186\u001b[0m         \u001b[1;32mif\u001b[0m \u001b[0mcb_container\u001b[0m\u001b[1;33m.\u001b[0m\u001b[0mafter_iteration\u001b[0m\u001b[1;33m(\u001b[0m\u001b[0mbst\u001b[0m\u001b[1;33m,\u001b[0m \u001b[0mi\u001b[0m\u001b[1;33m,\u001b[0m \u001b[0mdtrain\u001b[0m\u001b[1;33m,\u001b[0m \u001b[0mevals\u001b[0m\u001b[1;33m)\u001b[0m\u001b[1;33m:\u001b[0m\u001b[1;33m\u001b[0m\u001b[1;33m\u001b[0m\u001b[0m\n\u001b[0;32m    187\u001b[0m             \u001b[1;32mbreak\u001b[0m\u001b[1;33m\u001b[0m\u001b[1;33m\u001b[0m\u001b[0m\n",
      "\u001b[1;32mc:\\ProgramData\\anaconda3\\lib\\site-packages\\xgboost\\core.py\u001b[0m in \u001b[0;36mupdate\u001b[1;34m(self, dtrain, iteration, fobj)\u001b[0m\n\u001b[0;32m   1916\u001b[0m \u001b[1;33m\u001b[0m\u001b[0m\n\u001b[0;32m   1917\u001b[0m         \u001b[1;32mif\u001b[0m \u001b[0mfobj\u001b[0m \u001b[1;32mis\u001b[0m \u001b[1;32mNone\u001b[0m\u001b[1;33m:\u001b[0m\u001b[1;33m\u001b[0m\u001b[1;33m\u001b[0m\u001b[0m\n\u001b[1;32m-> 1918\u001b[1;33m             _check_call(_LIB.XGBoosterUpdateOneIter(self.handle,\n\u001b[0m\u001b[0;32m   1919\u001b[0m                                                     \u001b[0mctypes\u001b[0m\u001b[1;33m.\u001b[0m\u001b[0mc_int\u001b[0m\u001b[1;33m(\u001b[0m\u001b[0miteration\u001b[0m\u001b[1;33m)\u001b[0m\u001b[1;33m,\u001b[0m\u001b[1;33m\u001b[0m\u001b[1;33m\u001b[0m\u001b[0m\n\u001b[0;32m   1920\u001b[0m                                                     dtrain.handle))\n",
      "\u001b[1;32mc:\\ProgramData\\anaconda3\\lib\\site-packages\\xgboost\\core.py\u001b[0m in \u001b[0;36m_check_call\u001b[1;34m(ret)\u001b[0m\n\u001b[0;32m    277\u001b[0m     \"\"\"\n\u001b[0;32m    278\u001b[0m     \u001b[1;32mif\u001b[0m \u001b[0mret\u001b[0m \u001b[1;33m!=\u001b[0m \u001b[1;36m0\u001b[0m\u001b[1;33m:\u001b[0m\u001b[1;33m\u001b[0m\u001b[1;33m\u001b[0m\u001b[0m\n\u001b[1;32m--> 279\u001b[1;33m         \u001b[1;32mraise\u001b[0m \u001b[0mXGBoostError\u001b[0m\u001b[1;33m(\u001b[0m\u001b[0mpy_str\u001b[0m\u001b[1;33m(\u001b[0m\u001b[0m_LIB\u001b[0m\u001b[1;33m.\u001b[0m\u001b[0mXGBGetLastError\u001b[0m\u001b[1;33m(\u001b[0m\u001b[1;33m)\u001b[0m\u001b[1;33m)\u001b[0m\u001b[1;33m)\u001b[0m\u001b[1;33m\u001b[0m\u001b[1;33m\u001b[0m\u001b[0m\n\u001b[0m\u001b[0;32m    280\u001b[0m \u001b[1;33m\u001b[0m\u001b[0m\n\u001b[0;32m    281\u001b[0m \u001b[1;33m\u001b[0m\u001b[0m\n",
      "\u001b[1;31mXGBoostError\u001b[0m: [16:42:56] C:/buildkite-agent/builds/buildkite-windows-cpu-autoscaling-group-i-03de431ba26204c4d-1/xgboost/xgboost-ci-windows/src/gbm/gbtree.cc:611: Check failed: common::AllVisibleGPUs() >= 1 (0 vs. 1) : No visible GPU is found for XGBoost."
     ]
    }
   ],
   "source": [
    "xgb_results={}\n",
    "xgb  = xgboost.train(params={'max_depth': 5,\n",
    "                            'eta': .04,\n",
    "                            'tree_method': \"gpu_hist\"},\n",
    "                    dtrain=train_xgb,\n",
    "                    num_boost_round=2000,\n",
    "                    evals=[(train_xgb,\"train\"), (validation_xgb, \"validation\")],\n",
    "                    early_stopping_rounds = 10,\n",
    "                    evals_result = xgb_results)"
   ]
  },
  {
   "cell_type": "code",
   "execution_count": null,
   "metadata": {},
   "outputs": [
    {
     "ename": "NameError",
     "evalue": "name 'xgb' is not defined",
     "output_type": "error",
     "traceback": [
      "\u001b[1;31m---------------------------------------------------------------------------\u001b[0m",
      "\u001b[1;31mNameError\u001b[0m                                 Traceback (most recent call last)",
      "\u001b[1;32m~\\AppData\\Local\\Temp\\ipykernel_30564\\2083303230.py\u001b[0m in \u001b[0;36m<module>\u001b[1;34m\u001b[0m\n\u001b[1;32m----> 1\u001b[1;33m \u001b[0mrmse\u001b[0m\u001b[1;33m(\u001b[0m\u001b[0my_test\u001b[0m\u001b[1;33m,\u001b[0m\u001b[0mxgb\u001b[0m\u001b[1;33m.\u001b[0m\u001b[0mpredict\u001b[0m\u001b[1;33m(\u001b[0m\u001b[0mtest_xgb\u001b[0m\u001b[1;33m)\u001b[0m\u001b[1;33m)\u001b[0m\u001b[1;33m\u001b[0m\u001b[1;33m\u001b[0m\u001b[0m\n\u001b[0m",
      "\u001b[1;31mNameError\u001b[0m: name 'xgb' is not defined"
     ]
    }
   ],
   "source": [
    "rmse(y_test,xgb.predict(test_xgb))"
   ]
  }
 ],
 "metadata": {
  "kernelspec": {
   "display_name": "Python 3.9.13 ('base')",
   "language": "python",
   "name": "python3"
  },
  "language_info": {
   "codemirror_mode": {
    "name": "ipython",
    "version": 3
   },
   "file_extension": ".py",
   "mimetype": "text/x-python",
   "name": "python",
   "nbconvert_exporter": "python",
   "pygments_lexer": "ipython3",
   "version": "3.9.13"
  },
  "orig_nbformat": 4,
  "vscode": {
   "interpreter": {
    "hash": "3c06e3e46abf38078fe4dac36a0085ec2b134ebbd73dd076183d243eeca6918f"
   }
  }
 },
 "nbformat": 4,
 "nbformat_minor": 2
}
